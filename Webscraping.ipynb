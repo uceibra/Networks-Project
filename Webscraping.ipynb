{
 "cells": [
  {
   "cell_type": "markdown",
   "metadata": {
    "collapsed": true
   },
   "source": [
    "Webscraping for Homo Sapiens"
   ]
  },
  {
   "cell_type": "code",
   "execution_count": 85,
   "metadata": {
    "collapsed": true
   },
   "outputs": [],
   "source": [
    "# import necessary libraries\n",
    "import csv\n",
    "import numpy as np\n",
    "import pandas as pd\n",
    "import matplotlib.pyplot as plt\n",
    "import requests\n",
    "from bs4 import BeautifulSoup"
   ]
  },
  {
   "cell_type": "code",
   "execution_count": 86,
   "metadata": {},
   "outputs": [],
   "source": [
    "# change csv file into pandas dataframe and rename Dataframe as df\n",
    "df = pd.read_excel('Original Dataset.xls', sheetname='Version Maja')"
   ]
  },
  {
   "cell_type": "code",
   "execution_count": 87,
   "metadata": {},
   "outputs": [],
   "source": [
    "# transform data set to excel list\n",
    "list_df= df.values.T.tolist()"
   ]
  },
  {
   "cell_type": "code",
   "execution_count": 88,
   "metadata": {
    "collapsed": true
   },
   "outputs": [],
   "source": [
    "# replace protein from the original CSV file with next proteins into the URL of Biogrid Website\n",
    "Ext = []\n",
    "for i in range(len(df)):\n",
    "    u = df.iloc[i,0]\n",
    "    b = pd.read_csv(f\"http://webservice.thebiogrid.org/interactions/?geneList={u}&includeInteractors=true&includeHeader=true&taxId=9606&accesskey=93c1d5aabbc5978e3cab890714e9d92f\",sep='\\t')\n",
    "    c= b.reset_index()[['Official Symbol Interactor A', 'Official Symbol Interactor B']]\n",
    "    Ext.append(c)\n",
    "    "
   ]
  },
  {
   "cell_type": "code",
   "execution_count": 89,
   "metadata": {
    "collapsed": true
   },
   "outputs": [],
   "source": [
    "#concatenate results from list \n",
    "result = pd.concat(Ext)"
   ]
  },
  {
   "cell_type": "code",
   "execution_count": 90,
   "metadata": {
    "collapsed": true
   },
   "outputs": [],
   "source": [
    "# put results in a list\n",
    "result.to_csv(\"Homo_Proteins.csv\", sep='\\t')"
   ]
  },
  {
   "cell_type": "code",
   "execution_count": 91,
   "metadata": {
    "collapsed": true
   },
   "outputs": [],
   "source": [
    "#print 1st list in a list \n",
    "proteins1=Ext[0]\n",
    "proteins1.to_csv(\"proteins_1_homo.csv\", sep=',')"
   ]
  },
  {
   "cell_type": "code",
   "execution_count": 92,
   "metadata": {
    "collapsed": true
   },
   "outputs": [],
   "source": [
    "#print second list in a list \n",
    "proteins2=Ext[1]\n",
    "proteins2.to_csv(\"proteins_2_homo.csv\", sep=',')"
   ]
  },
  {
   "cell_type": "code",
   "execution_count": 93,
   "metadata": {
    "collapsed": true
   },
   "outputs": [],
   "source": [
    "#print third list in a list \n",
    "proteins3=Ext[2]\n",
    "proteins3.to_csv(\"proteins_3_homo.csv\", sep=',')\n"
   ]
  },
  {
   "cell_type": "code",
   "execution_count": 94,
   "metadata": {
    "collapsed": true
   },
   "outputs": [],
   "source": [
    "#print fourth list in a list \n",
    "proteins4=Ext[3]\n",
    "proteins4.to_csv(\"proteins_4_homo.csv\", sep=',')"
   ]
  },
  {
   "cell_type": "code",
   "execution_count": 95,
   "metadata": {
    "collapsed": true
   },
   "outputs": [],
   "source": [
    " #print fifth list in a list \n",
    "proteins5=Ext[4]\n",
    "proteins5.to_csv(\"proteins_5_homo.csv\", sep=',')"
   ]
  },
  {
   "cell_type": "code",
   "execution_count": 96,
   "metadata": {
    "collapsed": true
   },
   "outputs": [],
   "source": [
    "#print sixth list in a list \n",
    "proteins6=Ext[5]\n",
    "proteins6.to_csv(\"proteins_6_homo.csv\", sep=',')"
   ]
  },
  {
   "cell_type": "code",
   "execution_count": 97,
   "metadata": {
    "collapsed": true
   },
   "outputs": [],
   "source": [
    "#print seventh list in a list \n",
    "proteins7=Ext[6]\n",
    "proteins7.to_csv(\"proteins_7_homo.csv\", sep=',')"
   ]
  },
  {
   "cell_type": "code",
   "execution_count": 98,
   "metadata": {
    "collapsed": true
   },
   "outputs": [],
   "source": [
    "#print eight list in a list \n",
    "proteins8=Ext[7]\n",
    "proteins8.to_csv(\"proteins_8_homo.csv\", sep=',')"
   ]
  },
  {
   "cell_type": "code",
   "execution_count": 99,
   "metadata": {
    "collapsed": true
   },
   "outputs": [],
   "source": [
    "#print ninth list in a list \n",
    "proteins9=Ext[8]\n",
    "proteins9.to_csv(\"proteins_9_homo.csv\", sep=',')"
   ]
  },
  {
   "cell_type": "code",
   "execution_count": 100,
   "metadata": {
    "collapsed": true
   },
   "outputs": [],
   "source": [
    "#print tenth list in a list \n",
    "proteins10=Ext[9]\n",
    "proteins10.to_csv(\"proteins_10_homo.csv\", sep=',')"
   ]
  },
  {
   "cell_type": "code",
   "execution_count": 101,
   "metadata": {
    "collapsed": true
   },
   "outputs": [],
   "source": [
    "#print eleventh list in a list \n",
    "proteins11=Ext[10]\n",
    "proteins11.to_csv(\"proteins_11_homo.csv\", sep=',')"
   ]
  },
  {
   "cell_type": "code",
   "execution_count": 102,
   "metadata": {
    "collapsed": true
   },
   "outputs": [],
   "source": [
    "#print twelfth list in a list \n",
    "proteins12=Ext[11]\n",
    "proteins12.to_csv(\"proteins_12_homo.csv\", sep=',')"
   ]
  },
  {
   "cell_type": "code",
   "execution_count": 103,
   "metadata": {
    "collapsed": true
   },
   "outputs": [],
   "source": [
    "#print 13th list in a list \n",
    "proteins13=Ext[12]\n",
    "proteins13.to_csv(\"proteins_13_homo.csv\", sep=',')"
   ]
  },
  {
   "cell_type": "code",
   "execution_count": 104,
   "metadata": {
    "collapsed": true
   },
   "outputs": [],
   "source": [
    "#print 14th list in a list \n",
    "proteins14=Ext[13]\n",
    "proteins14.to_csv(\"proteins_14_homo.csv\", sep=',')"
   ]
  },
  {
   "cell_type": "code",
   "execution_count": 105,
   "metadata": {
    "collapsed": true
   },
   "outputs": [],
   "source": [
    "#print 15th list in a list \n",
    "proteins15=Ext[14]\n",
    "proteins15.to_csv(\"proteins_15_homo.csv\", sep=',')"
   ]
  },
  {
   "cell_type": "code",
   "execution_count": 106,
   "metadata": {
    "collapsed": true
   },
   "outputs": [],
   "source": [
    "#print 16th list in a list \n",
    "proteins16=Ext[15]\n",
    "proteins16.to_csv(\"proteins_16_homo.csv\", sep=',')"
   ]
  },
  {
   "cell_type": "markdown",
   "metadata": {
    "collapsed": true
   },
   "source": [
    "Webscraping for all Species "
   ]
  },
  {
   "cell_type": "code",
   "execution_count": 107,
   "metadata": {
    "collapsed": true
   },
   "outputs": [],
   "source": [
    "# replace protein from the original CSV file with next proteins into the URL of Biogrid Website\n",
    "Ext_all_species = []\n",
    "for i in range(len(df)):\n",
    "    u = df.iloc[i,0]\n",
    "    b = pd.read_csv(f\"http://webservice.thebiogrid.org/interactions/?geneList={u}&includeInteractors=true&includeHeader=true&accesskey=93c1d5aabbc5978e3cab890714e9d92f\",sep='\\t')\n",
    "    c= b.reset_index()[['Official Symbol Interactor A', 'Official Symbol Interactor B']]\n",
    "    Ext_all_species.append(c)"
   ]
  },
  {
   "cell_type": "code",
   "execution_count": 108,
   "metadata": {
    "collapsed": true
   },
   "outputs": [],
   "source": [
    "# concatenate results from list\n",
    "result = pd.concat(Ext_all_species)"
   ]
  },
  {
   "cell_type": "code",
   "execution_count": 109,
   "metadata": {
    "collapsed": true
   },
   "outputs": [],
   "source": [
    "# put results in a csv file \n",
    "result.to_csv(\"All_Species_Proteins.csv\", sep='\\t')"
   ]
  },
  {
   "cell_type": "code",
   "execution_count": 110,
   "metadata": {
    "collapsed": true
   },
   "outputs": [],
   "source": [
    "#print 1st list in a list \n",
    "proteins1=Ext_all_species[0]\n",
    "proteins1.to_csv(\"proteins_1_all.csv\", sep=',')"
   ]
  },
  {
   "cell_type": "code",
   "execution_count": 111,
   "metadata": {
    "collapsed": true
   },
   "outputs": [],
   "source": [
    "#print second list in a list \n",
    "proteins2=Ext_all_species[1]\n",
    "proteins2.to_csv(\"proteins_2_all.csv\", sep=',')"
   ]
  },
  {
   "cell_type": "code",
   "execution_count": 112,
   "metadata": {
    "collapsed": true
   },
   "outputs": [],
   "source": [
    "#print third list in a list \n",
    "proteins3=Ext_all_species[2]\n",
    "proteins3.to_csv(\"proteins_3_all.csv\", sep=',')"
   ]
  },
  {
   "cell_type": "code",
   "execution_count": 113,
   "metadata": {
    "collapsed": true
   },
   "outputs": [],
   "source": [
    "#print fourth list in a list \n",
    "proteins4=Ext_all_species[3]\n",
    "proteins4.to_csv(\"proteins_4_all.csv\", sep=',')"
   ]
  },
  {
   "cell_type": "code",
   "execution_count": 114,
   "metadata": {
    "collapsed": true
   },
   "outputs": [],
   "source": [
    " #print fifth list in a list \n",
    "proteins5=Ext_all_species[4]\n",
    "proteins5.to_csv(\"proteins_5_all.csv\", sep=',')"
   ]
  },
  {
   "cell_type": "code",
   "execution_count": 115,
   "metadata": {
    "collapsed": true
   },
   "outputs": [],
   "source": [
    "#print sixth list in a list \n",
    "proteins6=Ext_all_species[5]\n",
    "proteins6.to_csv(\"proteins_6_all.csv\", sep=',')"
   ]
  },
  {
   "cell_type": "code",
   "execution_count": 116,
   "metadata": {
    "collapsed": true
   },
   "outputs": [],
   "source": [
    "#print seventh list in a list \n",
    "proteins7=Ext_all_species[6]\n",
    "proteins7.to_csv(\"proteins_7_all.csv\", sep=',')"
   ]
  },
  {
   "cell_type": "code",
   "execution_count": 117,
   "metadata": {
    "collapsed": true
   },
   "outputs": [],
   "source": [
    "#print eight list in a list \n",
    "proteins8=Ext_all_species[7]\n",
    "proteins8.to_csv(\"proteins_8_all.csv\", sep=',')"
   ]
  },
  {
   "cell_type": "code",
   "execution_count": 118,
   "metadata": {
    "collapsed": true
   },
   "outputs": [],
   "source": [
    "#print ninth list in a list \n",
    "proteins9=Ext_all_species[8]\n",
    "proteins9.to_csv(\"proteins_9_all.csv\", sep=',')"
   ]
  },
  {
   "cell_type": "code",
   "execution_count": 119,
   "metadata": {
    "collapsed": true
   },
   "outputs": [],
   "source": [
    "#print eleventh list in a list \n",
    "proteins11=Ext_all_species[10]\n",
    "proteins11.to_csv(\"proteins_11_all.csv\", sep=',')"
   ]
  },
  {
   "cell_type": "code",
   "execution_count": 120,
   "metadata": {
    "collapsed": true
   },
   "outputs": [],
   "source": [
    "#print twelfth list in a list \n",
    "proteins12=Ext_all_species[11]\n",
    "proteins12.to_csv(\"proteins_12_all.csv\", sep=',')"
   ]
  },
  {
   "cell_type": "code",
   "execution_count": 121,
   "metadata": {
    "collapsed": true
   },
   "outputs": [],
   "source": [
    "#print 13th list in a list \n",
    "proteins13=Ext_all_species[12]\n",
    "proteins13.to_csv(\"proteins_13_all.csv\", sep=',')"
   ]
  },
  {
   "cell_type": "code",
   "execution_count": 122,
   "metadata": {
    "collapsed": true
   },
   "outputs": [],
   "source": [
    "#print 14th list in a list \n",
    "proteins14=Ext_all_species[13]\n",
    "proteins14.to_csv(\"proteins_14_all.csv\", sep=',')"
   ]
  },
  {
   "cell_type": "code",
   "execution_count": 123,
   "metadata": {
    "collapsed": true
   },
   "outputs": [],
   "source": [
    "#print 15th list in a list \n",
    "proteins15=Ext_all_species[14]\n",
    "proteins15.to_csv(\"proteins_15_all.csv\", sep=',')"
   ]
  },
  {
   "cell_type": "code",
   "execution_count": 124,
   "metadata": {
    "collapsed": true
   },
   "outputs": [],
   "source": [
    "#print 16th list in a list \n",
    "proteins16=Ext_all_species[15]\n",
    "proteins16.to_csv(\"proteins_16_all.csv\", sep=',')"
   ]
  }
 ],
 "metadata": {
  "kernelspec": {
   "display_name": "Python [default]",
   "language": "python",
   "name": "python3"
  },
  "language_info": {
   "codemirror_mode": {
    "name": "ipython",
    "version": 3
   },
   "file_extension": ".py",
   "mimetype": "text/x-python",
   "name": "python",
   "nbconvert_exporter": "python",
   "pygments_lexer": "ipython3",
   "version": "3.6.2"
  }
 },
 "nbformat": 4,
 "nbformat_minor": 2
}
